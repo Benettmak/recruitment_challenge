{
 "cells": [
  {
   "cell_type": "code",
   "execution_count": 22,
   "id": "fca7e9cb",
   "metadata": {},
   "outputs": [],
   "source": [
    "import pandas as pd\n",
    "import numpy as np\n",
    "from sklearn.model_selection import train_test_split, cross_val_score\n",
    "from sklearn.linear_model import LinearRegression\n",
    "from sklearn.metrics import mean_squared_error, r2_score\n",
    "\n",
    "# load data\n",
    "data=pd.read_csv('E://cv//MMM_test_data.csv', sep=',', encoding='latin-1', header=0)\n"
   ]
  },
  {
   "cell_type": "code",
   "execution_count": 13,
   "id": "dbf2b5e0",
   "metadata": {},
   "outputs": [
    {
     "name": "stdout",
     "output_type": "stream",
     "text": [
      "<class 'pandas.core.frame.DataFrame'>\n",
      "RangeIndex: 104 entries, 0 to 103\n",
      "Data columns (total 9 columns):\n",
      " #   Column           Non-Null Count  Dtype  \n",
      "---  ------           --------------  -----  \n",
      " 0   start_of_week    104 non-null    object \n",
      " 1   revenue          104 non-null    float64\n",
      " 2   spend_channel_1  104 non-null    float64\n",
      " 3   spend_channel_2  104 non-null    float64\n",
      " 4   spend_channel_3  104 non-null    float64\n",
      " 5   spend_channel_4  104 non-null    float64\n",
      " 6   spend_channel_5  104 non-null    float64\n",
      " 7   spend_channel_6  104 non-null    float64\n",
      " 8   spend_channel_7  104 non-null    float64\n",
      "dtypes: float64(8), object(1)\n",
      "memory usage: 7.4+ KB\n"
     ]
    }
   ],
   "source": [
    "data.info()"
   ]
  },
  {
   "cell_type": "code",
   "execution_count": 14,
   "id": "0eba061d",
   "metadata": {},
   "outputs": [
    {
     "data": {
      "text/html": [
       "<div>\n",
       "<style scoped>\n",
       "    .dataframe tbody tr th:only-of-type {\n",
       "        vertical-align: middle;\n",
       "    }\n",
       "\n",
       "    .dataframe tbody tr th {\n",
       "        vertical-align: top;\n",
       "    }\n",
       "\n",
       "    .dataframe thead th {\n",
       "        text-align: right;\n",
       "    }\n",
       "</style>\n",
       "<table border=\"1\" class=\"dataframe\">\n",
       "  <thead>\n",
       "    <tr style=\"text-align: right;\">\n",
       "      <th></th>\n",
       "      <th>start_of_week</th>\n",
       "      <th>revenue</th>\n",
       "      <th>spend_channel_1</th>\n",
       "      <th>spend_channel_2</th>\n",
       "      <th>spend_channel_3</th>\n",
       "      <th>spend_channel_4</th>\n",
       "      <th>spend_channel_5</th>\n",
       "      <th>spend_channel_6</th>\n",
       "      <th>spend_channel_7</th>\n",
       "    </tr>\n",
       "  </thead>\n",
       "  <tbody>\n",
       "    <tr>\n",
       "      <th>0</th>\n",
       "      <td>30-08-20</td>\n",
       "      <td>157906.75</td>\n",
       "      <td>2625.48</td>\n",
       "      <td>262.71</td>\n",
       "      <td>12954.12</td>\n",
       "      <td>3609.63</td>\n",
       "      <td>12955.29</td>\n",
       "      <td>12659.12</td>\n",
       "      <td>19379.79</td>\n",
       "    </tr>\n",
       "    <tr>\n",
       "      <th>1</th>\n",
       "      <td>06-09-20</td>\n",
       "      <td>186425.68</td>\n",
       "      <td>2634.01</td>\n",
       "      <td>108.66</td>\n",
       "      <td>8760.28</td>\n",
       "      <td>4560.60</td>\n",
       "      <td>12747.70</td>\n",
       "      <td>12338.18</td>\n",
       "      <td>22473.45</td>\n",
       "    </tr>\n",
       "    <tr>\n",
       "      <th>2</th>\n",
       "      <td>13-09-20</td>\n",
       "      <td>161607.39</td>\n",
       "      <td>2087.08</td>\n",
       "      <td>110.32</td>\n",
       "      <td>7155.42</td>\n",
       "      <td>4362.96</td>\n",
       "      <td>15015.41</td>\n",
       "      <td>10811.15</td>\n",
       "      <td>22596.05</td>\n",
       "    </tr>\n",
       "    <tr>\n",
       "      <th>3</th>\n",
       "      <td>20-09-20</td>\n",
       "      <td>180089.13</td>\n",
       "      <td>1690.70</td>\n",
       "      <td>52.79</td>\n",
       "      <td>15185.22</td>\n",
       "      <td>3883.41</td>\n",
       "      <td>15521.41</td>\n",
       "      <td>12890.22</td>\n",
       "      <td>24728.73</td>\n",
       "    </tr>\n",
       "    <tr>\n",
       "      <th>4</th>\n",
       "      <td>27-09-20</td>\n",
       "      <td>217793.98</td>\n",
       "      <td>1547.30</td>\n",
       "      <td>80.56</td>\n",
       "      <td>18524.05</td>\n",
       "      <td>4043.09</td>\n",
       "      <td>15793.74</td>\n",
       "      <td>12642.55</td>\n",
       "      <td>26515.48</td>\n",
       "    </tr>\n",
       "    <tr>\n",
       "      <th>...</th>\n",
       "      <td>...</td>\n",
       "      <td>...</td>\n",
       "      <td>...</td>\n",
       "      <td>...</td>\n",
       "      <td>...</td>\n",
       "      <td>...</td>\n",
       "      <td>...</td>\n",
       "      <td>...</td>\n",
       "      <td>...</td>\n",
       "    </tr>\n",
       "    <tr>\n",
       "      <th>99</th>\n",
       "      <td>24-07-22</td>\n",
       "      <td>72021.50</td>\n",
       "      <td>0.00</td>\n",
       "      <td>1118.78</td>\n",
       "      <td>22305.10</td>\n",
       "      <td>4566.01</td>\n",
       "      <td>2987.70</td>\n",
       "      <td>0.00</td>\n",
       "      <td>19916.88</td>\n",
       "    </tr>\n",
       "    <tr>\n",
       "      <th>100</th>\n",
       "      <td>31-07-22</td>\n",
       "      <td>90786.21</td>\n",
       "      <td>0.00</td>\n",
       "      <td>122.16</td>\n",
       "      <td>15812.65</td>\n",
       "      <td>4795.51</td>\n",
       "      <td>3293.40</td>\n",
       "      <td>0.00</td>\n",
       "      <td>22687.98</td>\n",
       "    </tr>\n",
       "    <tr>\n",
       "      <th>101</th>\n",
       "      <td>07-08-22</td>\n",
       "      <td>105929.40</td>\n",
       "      <td>0.00</td>\n",
       "      <td>754.09</td>\n",
       "      <td>12166.85</td>\n",
       "      <td>4961.12</td>\n",
       "      <td>4057.03</td>\n",
       "      <td>0.00</td>\n",
       "      <td>30142.64</td>\n",
       "    </tr>\n",
       "    <tr>\n",
       "      <th>102</th>\n",
       "      <td>14-08-22</td>\n",
       "      <td>90506.31</td>\n",
       "      <td>0.00</td>\n",
       "      <td>1043.22</td>\n",
       "      <td>10856.58</td>\n",
       "      <td>4431.13</td>\n",
       "      <td>3086.81</td>\n",
       "      <td>0.00</td>\n",
       "      <td>28622.78</td>\n",
       "    </tr>\n",
       "    <tr>\n",
       "      <th>103</th>\n",
       "      <td>21-08-22</td>\n",
       "      <td>84394.50</td>\n",
       "      <td>0.00</td>\n",
       "      <td>387.94</td>\n",
       "      <td>10757.63</td>\n",
       "      <td>4693.41</td>\n",
       "      <td>2972.11</td>\n",
       "      <td>0.00</td>\n",
       "      <td>30547.18</td>\n",
       "    </tr>\n",
       "  </tbody>\n",
       "</table>\n",
       "<p>104 rows × 9 columns</p>\n",
       "</div>"
      ],
      "text/plain": [
       "    start_of_week    revenue  spend_channel_1  spend_channel_2  \\\n",
       "0        30-08-20  157906.75          2625.48           262.71   \n",
       "1        06-09-20  186425.68          2634.01           108.66   \n",
       "2        13-09-20  161607.39          2087.08           110.32   \n",
       "3        20-09-20  180089.13          1690.70            52.79   \n",
       "4        27-09-20  217793.98          1547.30            80.56   \n",
       "..            ...        ...              ...              ...   \n",
       "99       24-07-22   72021.50             0.00          1118.78   \n",
       "100      31-07-22   90786.21             0.00           122.16   \n",
       "101      07-08-22  105929.40             0.00           754.09   \n",
       "102      14-08-22   90506.31             0.00          1043.22   \n",
       "103      21-08-22   84394.50             0.00           387.94   \n",
       "\n",
       "     spend_channel_3  spend_channel_4  spend_channel_5  spend_channel_6  \\\n",
       "0           12954.12          3609.63         12955.29         12659.12   \n",
       "1            8760.28          4560.60         12747.70         12338.18   \n",
       "2            7155.42          4362.96         15015.41         10811.15   \n",
       "3           15185.22          3883.41         15521.41         12890.22   \n",
       "4           18524.05          4043.09         15793.74         12642.55   \n",
       "..               ...              ...              ...              ...   \n",
       "99          22305.10          4566.01          2987.70             0.00   \n",
       "100         15812.65          4795.51          3293.40             0.00   \n",
       "101         12166.85          4961.12          4057.03             0.00   \n",
       "102         10856.58          4431.13          3086.81             0.00   \n",
       "103         10757.63          4693.41          2972.11             0.00   \n",
       "\n",
       "     spend_channel_7  \n",
       "0           19379.79  \n",
       "1           22473.45  \n",
       "2           22596.05  \n",
       "3           24728.73  \n",
       "4           26515.48  \n",
       "..               ...  \n",
       "99          19916.88  \n",
       "100         22687.98  \n",
       "101         30142.64  \n",
       "102         28622.78  \n",
       "103         30547.18  \n",
       "\n",
       "[104 rows x 9 columns]"
      ]
     },
     "execution_count": 14,
     "metadata": {},
     "output_type": "execute_result"
    }
   ],
   "source": [
    "data"
   ]
  },
  {
   "cell_type": "markdown",
   "id": "27496e76",
   "metadata": {},
   "source": [
    "# Modeling the adstock effect\n",
    "The adstock effect captures the delayed influence of advertising expenditure. We'll use a simple adstock model in which the effect of advertising decreases exponentially over time."
   ]
  },
  {
   "cell_type": "code",
   "execution_count": 15,
   "id": "3a79d14d",
   "metadata": {},
   "outputs": [],
   "source": [
    "# Function to apply the adstock transformation\n",
    "def adstock_transform(spend, decay_rate):\n",
    "    adstock = np.zeros_like(spend)\n",
    "    for t in range(1, len(spend)):\n",
    "        adstock[t] = spend[t] + decay_rate * adstock[t-1]\n",
    "    return adstock"
   ]
  },
  {
   "cell_type": "code",
   "execution_count": 16,
   "id": "d193973d",
   "metadata": {},
   "outputs": [],
   "source": [
    "# Apply adstock transformation to each channel (example with a rate of 0.5)\n",
    "decay_rate = 0.5\n",
    "adstock_data = np.zeros((len(data), 7))\n",
    "for i in range(1, 8):\n",
    "    adstock_data[:, i-1] = adstock_transform(data[f'spend_channel_{i}'].values, decay_rate)\n"
   ]
  },
  {
   "cell_type": "markdown",
   "id": "5167c648",
   "metadata": {},
   "source": [
    "# construction of an extension of classical linear regression\n",
    "Polynomial regression: polynomial regression is a type of non-linear regression that models the relationship between the input variable and the output variable as a polynomial function of the nth degree."
   ]
  },
  {
   "cell_type": "code",
   "execution_count": 17,
   "id": "5680225e",
   "metadata": {},
   "outputs": [],
   "source": [
    "# Prepare data for linear regression\n",
    "X = adstock_data  # Explanatory variables (expenditure adstock)\n",
    "y = data['revenue']  # Target variable (revenues)\n",
    "# Division of data into training and test sets\n",
    "X_train, X_test, y_train, y_test = train_test_split(X, y, test_size=0.2, random_state=42)"
   ]
  },
  {
   "cell_type": "code",
   "execution_count": 19,
   "id": "3c6af111",
   "metadata": {},
   "outputs": [],
   "source": [
    "from sklearn.preprocessing import PolynomialFeatures\n",
    "from sklearn.pipeline import make_pipeline\n"
   ]
  },
  {
   "cell_type": "code",
   "execution_count": 20,
   "id": "4ac761b8",
   "metadata": {},
   "outputs": [],
   "source": [
    "# Add polynomial terms\n",
    "poly = PolynomialFeatures(degree=2, include_bias=False)\n",
    "X_train_poly = poly.fit_transform(X_train)\n",
    "X_test_poly = poly.transform(X_test)"
   ]
  },
  {
   "cell_type": "code",
   "execution_count": 23,
   "id": "a711c9f8",
   "metadata": {},
   "outputs": [
    {
     "name": "stdout",
     "output_type": "stream",
     "text": [
      "Validation croisée R^2 scores: [ -0.35619441  -1.30237142  -1.73866232 -12.40802647  -0.12454024]\n",
      "Mean cross-validated R^2 score: -3.185958972467641\n",
      "Channel coefficients : {'channel_1': 15.378211762601307, 'channel_2': -53.3985198083431, 'channel_3': -5.099308258671339, 'channel_4': -19.652272707333275, 'channel_5': -1.0348742545159157, 'channel_6': 6.433994743943118, 'channel_7': 4.527450351853535}\n"
     ]
    }
   ],
   "source": [
    "# Create linear regression model\n",
    "model = LinearRegression()\n",
    "\n",
    "# Model training with cross-validation\n",
    "scores = cross_val_score(model, X_train_poly, y_train, cv=5, scoring='r2')\n",
    "print(f'Validation croisée R^2 scores: {scores}')\n",
    "print(f'Mean cross-validated R^2 score: {scores.mean()}')\n",
    "\n",
    "# Training on the complete set\n",
    "model.fit(X_train_poly, y_train)\n",
    "\n",
    "# Model coefficients\n",
    "coefficients = dict(zip(['channel_'+str(i) for i in range(1, 8)], model.coef_))\n",
    "print('Channel coefficients :', coefficients)"
   ]
  },
  {
   "cell_type": "markdown",
   "id": "f758bb9a",
   "metadata": {},
   "source": [
    "#  Evaluating model performance\n",
    "We will evaluate the model's performance using metrics such as RMSE (Root Mean Squared Error) and R^2"
   ]
  },
  {
   "cell_type": "code",
   "execution_count": 24,
   "id": "26a132c2",
   "metadata": {},
   "outputs": [
    {
     "name": "stdout",
     "output_type": "stream",
     "text": [
      "RMSE: 27080.19838788203\n",
      "R^2: 0.6942250854567515\n"
     ]
    }
   ],
   "source": [
    "# Prédictions et évaluation\n",
    "y_pred = model.predict(X_test_poly)\n",
    "rmse = np.sqrt(mean_squared_error(y_test, y_pred))\n",
    "r2 = r2_score(y_test, y_pred)\n",
    "\n",
    "print(f'RMSE: {rmse}')\n",
    "print(f'R^2: {r2}')\n"
   ]
  },
  {
   "cell_type": "markdown",
   "id": "2b977780",
   "metadata": {},
   "source": [
    "# Conclusions and ROI\n",
    "We'll analyze the coefficients to understand the impact of each channel on revenues, and calculate the ROI for each channel."
   ]
  },
  {
   "cell_type": "code",
   "execution_count": 25,
   "id": "acae5ad1",
   "metadata": {},
   "outputs": [
    {
     "name": "stdout",
     "output_type": "stream",
     "text": [
      "Impact du canal channel_1 : 15.38\n",
      "Impact du canal channel_2 : -53.40\n",
      "Impact du canal channel_3 : -5.10\n",
      "Impact du canal channel_4 : -19.65\n",
      "Impact du canal channel_5 : -1.03\n",
      "Impact du canal channel_6 : 6.43\n",
      "Impact du canal channel_7 : 4.53\n",
      "{'channel_1': 15.378211762601307, 'channel_2': -53.3985198083431, 'channel_3': -5.099308258671339, 'channel_4': -19.652272707333275, 'channel_5': -1.0348742545159157, 'channel_6': 6.433994743943118, 'channel_7': 4.527450351853535}\n",
      "The best channel in terms of ROI is channel_1 with an ROI of 15.378211762601307\n"
     ]
    }
   ],
   "source": [
    "# Display coefficients\n",
    "for channel, coef in coefficients.items():\n",
    "    print(f'Impact du canal {channel} : {coef:.2f}')\n",
    "\n",
    "# Calculate ROI for each channel\n",
    "roi = {}\n",
    "for i in range(7):\n",
    "    total_spend = data[f'spend_channel_{i+1}'].sum()\n",
    "    total_impact = coefficients[f'channel_{i+1}'] * total_spend\n",
    "    roi[f'channel_{i+1}'] = total_impact / total_spend\n",
    "\n",
    "# Display ROI\n",
    "print(roi)\n",
    "\n",
    "# Best channel in terms of ROI\n",
    "best_channel = max(roi, key=roi.get)\n",
    "print(f'The best channel in terms of ROI is {best_channel} with an ROI of {roi[best_channel]}')"
   ]
  },
  {
   "cell_type": "code",
   "execution_count": null,
   "id": "0994b547",
   "metadata": {},
   "outputs": [],
   "source": []
  }
 ],
 "metadata": {
  "kernelspec": {
   "display_name": "Python 3",
   "language": "python",
   "name": "python3"
  },
  "language_info": {
   "codemirror_mode": {
    "name": "ipython",
    "version": 3
   },
   "file_extension": ".py",
   "mimetype": "text/x-python",
   "name": "python",
   "nbconvert_exporter": "python",
   "pygments_lexer": "ipython3",
   "version": "3.8.8"
  }
 },
 "nbformat": 4,
 "nbformat_minor": 5
}
